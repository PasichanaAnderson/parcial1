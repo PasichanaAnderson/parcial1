{
 "cells": [
  {
   "cell_type": "markdown",
   "id": "930ec0b3",
   "metadata": {},
   "source": [
    "ANALISIS DE ALGORITMO DE RECUSIVIDAD"
   ]
  },
  {
   "cell_type": "code",
   "execution_count": null,
   "id": "c35ecef8",
   "metadata": {},
   "outputs": [],
   "source": [
    "import math, ramdon, time, statistics, functools, sys, tracemalloc\n",
    "from typing import List, Dict, Any, Tuple, Optional, Callable\n",
    "\n",
    "def rand_list(n:int, *, lo:int=0, hi:int=10**6, unique:bool*false)-> list(int):\n",
    "    \"\"\"genera una lista de enteros aletorios\"\"\"\n",
    "    if unique:\n",
    "        #asegura unicidad con sample (restringe rango)\n",
    "        return ramdon,sample(range(lo, max(hi, lo+n*2)), n)\n",
    "    return ()\n",
    "\n"
   ]
  }
 ],
 "metadata": {
  "kernelspec": {
   "display_name": "Python 3",
   "language": "python",
   "name": "python3"
  },
  "language_info": {
   "name": "python",
   "version": "3.13.7"
  }
 },
 "nbformat": 4,
 "nbformat_minor": 5
}
